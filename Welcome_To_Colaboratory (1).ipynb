{
  "cells": [
    {
      "cell_type": "markdown",
      "source": [
        "# You are given a graph and a number x as input. Your task is to print the DFS traversal nodes of the input graph starting from node x. Complete the following function in order to give the required output.\n",
        "\n",
        "Input Format:\n",
        "\n",
        "The first line of input contains a list containing sets representing a graph. The second line of input contains the number x. \n",
        "\n",
        "Output Format:\n",
        "\n",
        "Complete the function in order to return the required output.\n",
        "\n",
        "Sample Input 0:\n",
        "\n",
        "[[1,0],[2,0],[3,0],[3,2]]\n",
        "\n",
        "3\n",
        "\n",
        "Sample Output 0:\n",
        "\n",
        "3 0 2 "
      ],
      "metadata": {
        "id": "Y7_yJ8GyOIEN"
      }
    },
    {
      "cell_type": "code",
      "source": [],
      "metadata": {
        "id": "FdMxnnNjPuz4"
      },
      "execution_count": null,
      "outputs": []
    },
    {
      "cell_type": "code",
      "source": [
        "n=int(input(\"Enter the number of elemnts:: \"))\n",
        "graph=[]\n",
        "for i in range(n):\n",
        "    graph.append(list(map(int,input(\"Enter two elements as space seperated \").split())))\n",
        "print(graph)\n",
        "\n",
        "x=[]\n",
        "for i in graph:\n",
        "    x.extend(i)\n",
        "nodes=list(set(x))\n",
        "print(nodes)\n",
        "\n",
        "\n",
        "d_graph={}\n",
        "for i in range(len(graph)):\n",
        "    if graph[i][0] in d_graph.keys():\n",
        "        t= graph[i][1]\n",
        "        d_graph[graph[i][0]].append(t)\n",
        "    else:\n",
        "        d_graph.update({graph[i][0]:[graph[i][-1]]})\n",
        "print(d_graph)\n",
        "\n",
        "for i in nodes:\n",
        "    if i not in d_graph.keys():\n",
        "        d_graph.update({i:[]})\n",
        "print(d_graph)\n",
        "\n",
        "\n",
        "visited_root = set()\n",
        "root=int(input(\"enter the root node\"))   \n",
        "def Depth_First_Sesrch(visited_root,graph, root):\n",
        "    if root not in visited_root:\n",
        "        print (root,end=' ')\n",
        "        visited_root.add(root)\n",
        "        for node in d_graph[root]:\n",
        "            Depth_First_Sesrch(visited_root, graph, node)\n",
        "\n",
        "\n",
        "Depth_First_Sesrch(visited_root,d_graph, root)"
      ],
      "metadata": {
        "id": "_7AMx5_LD_j3"
      },
      "execution_count": null,
      "outputs": []
    }
  ],
  "metadata": {
    "colab": {
      "name": "Welcome To Colaboratory",
      "provenance": []
    },
    "kernelspec": {
      "display_name": "Python 3",
      "name": "python3"
    }
  },
  "nbformat": 4,
  "nbformat_minor": 0
}